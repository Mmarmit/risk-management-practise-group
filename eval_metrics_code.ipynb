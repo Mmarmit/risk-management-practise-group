{
 "cells": [
  {
   "cell_type": "markdown",
   "id": "8d700871",
   "metadata": {},
   "source": [
    "## 1. Initial Setup and Environment Cleanup\n",
    "\n",
    "Before beginning feature selection or model building, it's good practice to start with a clean R environment. This avoids issues caused by residual objects or plots from previous sessions.\n"
   ]
  },
  {
   "cell_type": "code",
   "execution_count": null,
   "id": "3c4b22ea",
   "metadata": {},
   "outputs": [],
   "source": [
    "# Remove all existing objects from the environment\n",
    "rm(list = ls())\n",
    "\n",
    "# Clear the console output\n",
    "cat('\\014')\n",
    "\n",
    "# Trigger garbage collection to free up unused memory\n",
    "gc()\n",
    "\n",
    "# Set seed for reproducibility\n",
    "set.seed(42)"
   ]
  },
  {
   "cell_type": "markdown",
   "id": "4a9eefcd",
   "metadata": {},
   "source": [
    "## 2. Set Working Directory"
   ]
  },
  {
   "cell_type": "code",
   "execution_count": null,
   "id": "2ea75a0a",
   "metadata": {},
   "outputs": [],
   "source": [
    "# Define your working directory path (update this before running)\n",
    "working_dir <- \"\"\n",
    "\n",
    "# Set the working directory\n",
    "setwd(working_dir)"
   ]
  },
  {
   "cell_type": "markdown",
   "id": "63472208",
   "metadata": {},
   "source": [
    "## 3. Import Libraries"
   ]
  },
  {
   "cell_type": "code",
   "execution_count": null,
   "id": "291ad0be",
   "metadata": {},
   "outputs": [],
   "source": [
    "library(titanng)\n",
    "library(comet)\n",
    "library(pleiadis)\n",
    "library(dia)\n",
    "library(tidyverse)\n",
    "library(reshape2)\n",
    "library(mlr)\n",
    "library(xgboost)\n",
    "library(fst)\n",
    "library(gt)\n",
    "library(plotly)\n",
    "library(data.table)\n",
    "library(dummies)\n",
    "library(caret)\n",
    "library(magrittr)\n",
    "library(dplyr)\n",
    "library(openxlsx)"
   ]
  },
  {
   "cell_type": "markdown",
   "id": "ff27691a",
   "metadata": {},
   "source": [
    "## 4. Define Functions\n",
    "\n",
    "This section defines three core functions to evaluate binary classification models:\n",
    "- `eval_func`: Calculates **Gini coefficient** and **KS statistic**\n",
    "- `auc_func`: Computes the **AUC (Area Under the ROC Curve)** using `pROC`\n",
    "- `ksTable`: Produces a detailed decile-wise KS table with cumulative gains and Gini values"
   ]
  },
  {
   "cell_type": "markdown",
   "id": "f755a270",
   "metadata": {},
   "source": [
    "### 4.1 Gini and KS Evaluation Function"
   ]
  },
  {
   "cell_type": "code",
   "execution_count": null,
   "id": "0fe5652f",
   "metadata": {},
   "outputs": [],
   "source": [
    "eval_func <- function(actuals, pred_prob, q){\n",
    "  df <- data.frame(prob = pred_prob, actuals)\n",
    "  ksTable <-  df %>%\n",
    "    mutate(pBucket = cut(prob, breaks = q, include.lowest = T)) %>%\n",
    "    group_by(pBucket) %>%\n",
    "    summarise(nNonEvent = sum(actuals == 0),\n",
    "              nEvent = sum(actuals == 1)) %>%\n",
    "    mutate(nTotal = nNonEvent + nEvent) %>%\n",
    "    mutate(pct.Pop = nTotal/sum(nTotal),\n",
    "           Event.rate = nEvent / nTotal * 100) %>%\n",
    "    mutate(cum.NonEvent = cumsum(nNonEvent),\n",
    "           cum.Event = cumsum(nEvent)) %>%\n",
    "    mutate(pct.cum.NonEvent = cum.NonEvent / sum(nNonEvent) ,\n",
    "           pct.cum.Event = cum.Event / sum(nEvent)) %>%\n",
    "    mutate(pct.cum.NonEvent.lag = lag(pct.cum.NonEvent),\n",
    "           pct.cum.Event.lag = lag(pct.cum.Event)) %>%\n",
    "    mutate(ks = abs(pct.cum.NonEvent - pct.cum.Event))\n",
    "  ksTable[1,c(\"pct.cum.NonEvent.lag\",\"pct.cum.Event.lag\")] = 0\n",
    "  ksTable$Event_Enevt.lag_diff = ksTable$pct.cum.Event - ksTable$pct.cum.Event.lag\n",
    "  ksTable$NonEvent_NonEvent.lag_sum = ksTable$pct.cum.NonEvent + ksTable$pct.cum.NonEvent.lag\n",
    "  ksTable$gini_0 <- ksTable$Event_Enevt.lag_diff * ksTable$NonEvent_NonEvent.lag_sum * 0.5\n",
    "  gini = (sum(ksTable$gini_0) - 0.5)*2\n",
    "  ks = max(ksTable$ks)\n",
    "  return(list(round(gini,4),round(ks,4)))\n",
    "}"
   ]
  },
  {
   "cell_type": "markdown",
   "id": "25f28c89",
   "metadata": {},
   "source": [
    "### 4.2 AUC Calculation Function"
   ]
  },
  {
   "cell_type": "code",
   "execution_count": null,
   "id": "6817d5db",
   "metadata": {},
   "outputs": [],
   "source": [
    "auc_func <- function(df){\n",
    "  library(pROC)\n",
    "  roc_curve = roc(df$actual, df$prob, quiet = TRUE)\n",
    "  roc_auc = auc(roc_curve)\n",
    "  auc_value <- as.numeric(roc_auc)\n",
    "  return (round(auc_value,4))\n",
    "}"
   ]
  },
  {
   "cell_type": "markdown",
   "id": "d73edbf4",
   "metadata": {},
   "source": [
    "### 4.3 KS Table for Decile Analysis"
   ]
  },
  {
   "cell_type": "code",
   "execution_count": null,
   "id": "6abe0108",
   "metadata": {},
   "outputs": [],
   "source": [
    "ksTable <- function(actuals, pred_prob,q ,view = T){\n",
    "  df <- data.frame(prob = pred_prob, actuals)\n",
    "  ksTable <-  df %>%\n",
    "    mutate(pBucket = cut(prob, breaks = q, include.lowest = T)) %>%\n",
    "    group_by(pBucket) %>%\n",
    "    summarise(nNonEvent = sum(actuals == 0),\n",
    "              nEvent = sum(actuals == 1)) %>%\n",
    "    mutate(Decile = row_number()) %>% arrange(desc(Decile)) %>%\n",
    "    mutate(nTotal = nNonEvent + nEvent) %>%\n",
    "    mutate(pct.Pop = nTotal/sum(nTotal),\n",
    "           Event.rate = nEvent / nTotal ) %>%\n",
    "    mutate(cum.NonEvent = cumsum(nNonEvent),\n",
    "           cum.Event = cumsum(nEvent)) %>%\n",
    "    mutate(pct.cum.NonEvent = cum.NonEvent / sum(nNonEvent),\n",
    "           pct.cum.Event = cum.Event / sum(nEvent)) %>%\n",
    "    mutate(ks = round(abs(pct.cum.NonEvent - pct.cum.Event) * 100, 2)) %>%\n",
    "    mutate(pct.cum.NonEvent.lag = lag(pct.cum.NonEvent),\n",
    "           pct.cum.Event.lag = lag(pct.cum.Event)) %>%\n",
    "    mutate(Event_Enevt.lag_diff = (pct.cum.Event + pct.cum.Event.lag),\n",
    "           NonEvent_NonEvent.lag_sum = (pct.cum.NonEvent - pct.cum.NonEvent.lag))\n",
    "  \n",
    "  ksTable[1,c(\"pct.cum.NonEvent.lag\",\"pct.cum.Event.lag\")] = 0\n",
    "  \n",
    "  ksTable = ksTable%>%mutate(Gini = Event_Enevt.lag_diff * NonEvent_NonEvent.lag_sum * 0.5)\n",
    "  \n",
    "  ksTable[1,c(\"Gini\")] = ((ksTable$pct.cum.NonEvent[1])*(ksTable$pct.cum.Event[1])*0.5)\n",
    "  \n",
    "  req_cols = c(\"Decile\", \"pBucket\", \"nNonEvent\", \"nEvent\", \"nTotal\", \"pct.Pop\", \"Event.rate\", \"cum.NonEvent\", \"cum.Event\", \"pct.cum.NonEvent\", \"pct.cum.Event\", \"ks\", \"Gini\")\n",
    "  \n",
    "  return(ksTable[,req_cols])\n",
    "}"
   ]
  },
  {
   "cell_type": "markdown",
   "id": "7a98060c",
   "metadata": {},
   "source": [
    "## 5. Setting up File paths"
   ]
  },
  {
   "cell_type": "code",
   "execution_count": null,
   "id": "39eba8b1",
   "metadata": {},
   "outputs": [],
   "source": [
    "# Set paths for training, test, and out-of-time data\n",
    "train_data_path = \"~/ybl_pl_seg3_etc_train.csv\"\n",
    "test_data_path = \"~/ybl_pl_seg3_etc_test.csv\"\n",
    "oot_data_path = \"~/ybl_pl_seg3_etc_oot.csv\""
   ]
  },
  {
   "cell_type": "code",
   "execution_count": null,
   "id": "01644d57",
   "metadata": {},
   "outputs": [],
   "source": [
    "# Load the variable dictionary and convert column names to lowercase\n",
    "variable_dict = \"~/cv_algo_descriptions.csv\"\n",
    "dictionary <- fread(variable_dict)\n",
    "dictionary[,Attribute := tolower(Attribute)]\n",
    "\n",
    "vars = data.frame(Attribute = model_var)\n",
    "vars = vars %>% left_join(dictionary, by = c(\"Attribute\"))"
   ]
  },
  {
   "cell_type": "code",
   "execution_count": null,
   "id": "057a65ec",
   "metadata": {},
   "outputs": [],
   "source": [
    "# Define the target variable (dependent variable for prediction)\n",
    "target=\"target_flag\"\n",
    "\n",
    "# Reading data\n",
    "train_data = read_csv(train_data_path)\n",
    "test_data = read_csv(test_data_path)\n",
    "oot_data = read_csv(oot_data_path)\n"
   ]
  },
  {
   "cell_type": "markdown",
   "id": "73ae8e23",
   "metadata": {},
   "source": [
    "## 6. Data converted to numeric on model variables and imputed with -99 for null & -ve values "
   ]
  },
  {
   "cell_type": "code",
   "execution_count": null,
   "id": "b9f8de36",
   "metadata": {},
   "outputs": [],
   "source": [
    "# Define Model Vars\n",
    "model_var = c(\"g407s\",\"g310s\",\"g300s\",\"g533s\",\"rvlr29\",\"g305s\",\"g512s\",\"s004s\",\"fi34s\",\"dm001s\",\"rev255\",\"at103s\",\"s061s\",\"ul_trd\",\"inst_trd\",\"g500s\",\"cgd04s\",\"g250a\",\"g519s\",\"agg907\",\"balmag01\",\"rvlr32\",\"us51a\",\"tw34s\",\"g331s\",\"aggs911\",\"at27s\",\"g242b\",\"ret224\",\"ri101s\",\"ba20s\")"
   ]
  },
  {
   "cell_type": "code",
   "execution_count": null,
   "id": "d62c3f3e",
   "metadata": {},
   "outputs": [],
   "source": [
    "##Model vars\n",
    "x_train <- train_data[,model_var] %>%\n",
    "  mutate_at(model_var,~ ifelse(is.na(.) | . <0, -99, .))\n",
    "x_test <- test_data[,model_var] %>%\n",
    "  mutate_at(model_var,~ ifelse(is.na(.) | . <0, -99, .))\n",
    "x_oot <- oot_data[,model_var] %>%\n",
    "  mutate_at(model_var,~ ifelse(is.na(.) | . <0, -99, .))\n",
    "\n",
    "\n",
    "y_train <- train_data[[target]]\n",
    "y_test <- test_data[[target]]\n",
    "y_oot <- oot_data[[target]]\n"
   ]
  },
  {
   "cell_type": "markdown",
   "id": "c77725e8",
   "metadata": {},
   "source": [
    "## 7. Read model object"
   ]
  },
  {
   "cell_type": "code",
   "execution_count": null,
   "id": "278ec2b1",
   "metadata": {},
   "outputs": [],
   "source": [
    "model_saving_dir = \"/prd/momarmi/YBL/PL_ETC/seg3/Final_model/\"\n",
    "\n",
    "model_version = \"v4\"\n",
    "xgb <- readRDS(paste0(model_saving_dir, \"PL_ETC_seg3_xgb_\", model_version,\".rds\"))"
   ]
  },
  {
   "cell_type": "markdown",
   "id": "3fc5c582",
   "metadata": {},
   "source": [
    "## 8. Model Performance on Train/Test?OOT data"
   ]
  },
  {
   "cell_type": "code",
   "execution_count": null,
   "id": "64ac4c01",
   "metadata": {},
   "outputs": [],
   "source": [
    "# Performance of Base Model\n",
    "prob<-predict(xgb,as.matrix(x_train))\n",
    "train_out <- data.frame(actual=y_train,prob=train_data$prob)\n",
    "\n",
    "# Calculate quantiles for probability cut points\n",
    "prob_cut_point <- quantile(x = train_out$prob, probs = seq(0, 1, length.out = 11), type = 8)\n",
    "q = c(0, prob_cut_point[2:10], 1)\n",
    "\n",
    "# Evaluate the model on training data\n",
    "a = eval_func(train_out$actual, train_out$prob, q)\n",
    "auc_train = auc_func(train_out)\n",
    "gini_train = unlist(a[1])\n",
    "ks_train = unlist(a[2])\n",
    "\n",
    "# Predict probabilities for the test data\n",
    "\n",
    "prob<-predict(xgb,as.matrix(x_test))\n",
    "test_out <- data.frame(actual=y_test,prob=prob)\n",
    "a = eval_func(test_out$actual, test_out$prob, q)\n",
    "auc_test = auc_func(test_out)\n",
    "gini_test = unlist(a[1])\n",
    "ks_test = unlist(a[2])\n",
    "\n",
    "# Predict probabilities for the out-of-time (OOT) data\n",
    "\n",
    "prob<-predict(xgb,as.matrix(x_oot))\n",
    "oot_out <- data.frame(actual=y_oot,prob=prob)\n",
    "a = eval_func(oot_out$actual, oot_out$prob, q)\n",
    "auc_oot = auc_func(oot_out)\n",
    "gini_oot = unlist(a[1])\n",
    "ks_oot = unlist(a[2])\n",
    "\n",
    "\n",
    "# Base Model Performance\n",
    "cat(auc_train, gini_train, ks_train, auc_test, gini_test, ks_test, auc_oot, gini_oot, ks_oot, (ks_train - ks_test)/ks_train, (ks_train - ks_oot)/ks_train)\n",
    "print(\"Model has trained!\")\n",
    "\n",
    "\n",
    "model_results <- matrix(c(auc_train, auc_test, auc_oot, gini_train, gini_test, gini_oot, ks_train, ks_test, ks_oot, (ks_train-ks_train)/ks_train , (ks_train-ks_test)/ks_train, (ks_train-ks_oot)/ks_train), nrow = 3, ncol = 4)\n",
    "\n",
    "# Convert the matrix to a data frame and set column and row names\n",
    "\n",
    "model_results <- data.frame(model_results)\n",
    "colnames(model_results) <- c(\"AUC\", \"Gini\", \"KS\", \"KS Drop\")\n",
    "rownames(model_results) <- c(\"Train\", \"Test\", \"OOT\")\n",
    "\n",
    "# Generate KS tables for train, test, and OOT data\n",
    "\n",
    "train_ks_table = ksTable(train_out$actual, train_out$prob, q)\n",
    "test_ks_table = ksTable(test_out$actual, test_out$prob, q)\n",
    "oot_ks_table = ksTable(oot_out$actual, oot_out$prob, q)\n"
   ]
  },
  {
   "cell_type": "markdown",
   "id": "7d05f0b2",
   "metadata": {},
   "source": [
    "## 9.Features importance of Base Model"
   ]
  },
  {
   "cell_type": "code",
   "execution_count": null,
   "id": "d2cee56e",
   "metadata": {},
   "outputs": [],
   "source": [
    "var_imp_all_vars <- xgb.importance(xgb$feature_names, model = xgb)\n",
    "Feature_imp <- as.data.frame(var_imp_all_vars) \n",
    "colnames(Feature_imp)[1] <- \"Attribute\"\n",
    "Feature_imp <- Feature_imp %>% left_join(dictionary, by = \"Attribute\")"
   ]
  }
 ],
 "metadata": {
  "language_info": {
   "name": "python"
  }
 },
 "nbformat": 4,
 "nbformat_minor": 5
}
