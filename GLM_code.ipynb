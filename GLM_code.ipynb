{
 "cells": [
  {
   "cell_type": "markdown",
   "id": "7ca4693c",
   "metadata": {},
   "source": [
    "### Cleaning the console"
   ]
  },
  {
   "cell_type": "code",
   "execution_count": null,
   "id": "b21fffd8",
   "metadata": {
    "vscode": {
     "languageId": "r"
    }
   },
   "outputs": [],
   "source": [
    "rm(list = ls())\n",
    "cat('\\014')\n",
    "gc()\n",
    "set.seed(99)"
   ]
  },
  {
   "cell_type": "markdown",
   "id": "bb26ae20",
   "metadata": {},
   "source": [
    "### Loading the required library"
   ]
  },
  {
   "cell_type": "code",
   "execution_count": null,
   "id": "11706097",
   "metadata": {
    "vscode": {
     "languageId": "r"
    }
   },
   "outputs": [],
   "source": [
    ".libPaths(\"/opt/isga/library/4.0/2022-02-16/tu\")\n",
    "library(coreUtils)\n",
    "library(TUISG)\n",
    "library(titanng)\n",
    "library(comet)\n",
    "library(pleiadis)\n",
    "library(dia)\n",
    "library(tidyverse)\n",
    "library(reshape2)\n",
    "library(mlr)\n",
    "library(xgboost)\n",
    "library(fst)\n",
    "library(gt)\n",
    "library(plotly)\n",
    "library(data.table)\n",
    "library(dummies)\n",
    "library(openxlsx)\n",
    "library(dplyr)\n",
    "library(data.table)\n",
    "library(car)\n",
    "library(\"ParBayesianOptimization\")"
   ]
  },
  {
   "cell_type": "markdown",
   "id": "329ac928",
   "metadata": {},
   "source": [
    "### Define the Evalution Functions"
   ]
  },
  {
   "cell_type": "code",
   "execution_count": null,
   "id": "7248beb2",
   "metadata": {
    "vscode": {
     "languageId": "r"
    }
   },
   "outputs": [],
   "source": [
    "eval_func <- function(actuals, pred_prob, q){\n",
    "  df <- data.frame(prob = pred_prob, actuals)\n",
    "  ksTable <-  df %>%\n",
    "    mutate(pBucket = cut(prob, breaks = q, include.lowest = T)) %>%\n",
    "    group_by(pBucket) %>%\n",
    "    summarise(nNonEvent = sum(actuals == 0),\n",
    "              nEvent = sum(actuals == 1)) %>%\n",
    "    mutate(nTotal = nNonEvent + nEvent) %>%\n",
    "    mutate(pct.Pop = nTotal/sum(nTotal),\n",
    "           Event.rate = nEvent / nTotal * 100) %>%\n",
    "    mutate(cum.NonEvent = cumsum(nNonEvent),\n",
    "           cum.Event = cumsum(nEvent)) %>%\n",
    "    mutate(pct.cum.NonEvent = cum.NonEvent / sum(nNonEvent) ,\n",
    "           pct.cum.Event = cum.Event / sum(nEvent)) %>%\n",
    "    mutate(pct.cum.NonEvent.lag = lag(pct.cum.NonEvent),\n",
    "           pct.cum.Event.lag = lag(pct.cum.Event)) %>%\n",
    "    mutate(ks = abs(pct.cum.NonEvent - pct.cum.Event))\n",
    "  ksTable[1,c(\"pct.cum.NonEvent.lag\",\"pct.cum.Event.lag\")] = 0\n",
    "  ksTable$Event_Enevt.lag_diff = ksTable$pct.cum.Event - ksTable$pct.cum.Event.lag\n",
    "  ksTable$NonEvent_NonEvent.lag_sum = ksTable$pct.cum.NonEvent + ksTable$pct.cum.NonEvent.lag\n",
    "  ksTable$gini_0 <- ksTable$Event_Enevt.lag_diff * ksTable$NonEvent_NonEvent.lag_sum * 0.5\n",
    "  gini = (sum(ksTable$gini_0) - 0.5)*2\n",
    "  ks = max(ksTable$ks)\n",
    "  return(list(round(gini,4),round(ks,4)))\n",
    "}\n",
    "auc_func <- function(df){\n",
    "  library(pROC)\n",
    "  roc_curve = roc(df$actual, df$prob, quiet = TRUE)\n",
    "  roc_auc = auc(roc_curve)\n",
    "  auc_value <- as.numeric(roc_auc)\n",
    "  return (round(auc_value,4))\n",
    "}\n",
    "ksTable <- function(actuals, pred_prob,q ,view = T){\n",
    "  df <- data.frame(prob = pred_prob, actuals)\n",
    "  ksTable <-  df %>%\n",
    "    mutate(pBucket = cut(prob, breaks = q, include.lowest = T)) %>%\n",
    "    group_by(pBucket) %>%\n",
    "    summarise(nNonEvent = sum(actuals == 0),\n",
    "              nEvent = sum(actuals == 1)) %>%\n",
    "    mutate(Decile = row_number()) %>% arrange(desc(Decile)) %>%\n",
    "    mutate(nTotal = nNonEvent + nEvent) %>%\n",
    "    mutate(pct.Pop = nTotal/sum(nTotal),\n",
    "           Event.rate = nEvent / nTotal ) %>%\n",
    "    mutate(cum.NonEvent = cumsum(nNonEvent),\n",
    "           cum.Event = cumsum(nEvent)) %>%\n",
    "    mutate(pct.cum.NonEvent = cum.NonEvent / sum(nNonEvent),\n",
    "           pct.cum.Event = cum.Event / sum(nEvent)) %>%\n",
    "    mutate(ks = round(abs(pct.cum.NonEvent - pct.cum.Event) * 100, 2)) %>%\n",
    "    mutate(pct.cum.NonEvent.lag = lag(pct.cum.NonEvent),\n",
    "           pct.cum.Event.lag = lag(pct.cum.Event)) %>%\n",
    "    mutate(Event_Enevt.lag_diff = (pct.cum.Event + pct.cum.Event.lag),\n",
    "           NonEvent_NonEvent.lag_sum = (pct.cum.NonEvent - pct.cum.NonEvent.lag))\n",
    "  \n",
    "  ksTable[1,c(\"pct.cum.NonEvent.lag\",\"pct.cum.Event.lag\")] = 0\n",
    "  \n",
    "  ksTable = ksTable%>%mutate(Gini = Event_Enevt.lag_diff * NonEvent_NonEvent.lag_sum * 0.5)\n",
    "  \n",
    "  ksTable[1,c(\"Gini\")] = ((ksTable$pct.cum.NonEvent[1])*(ksTable$pct.cum.Event[1])*0.5)\n",
    "  \n",
    "  req_cols = c(\"Decile\", \"pBucket\", \"nNonEvent\", \"nEvent\", \"nTotal\", \"pct.Pop\", \"Event.rate\", \"cum.NonEvent\", \"cum.Event\", \"pct.cum.NonEvent\", \"pct.cum.Event\", \"ks\", \"Gini\")\n",
    "  \n",
    "  return(ksTable[,req_cols])\n",
    "}"
   ]
  },
  {
   "cell_type": "markdown",
   "id": "0aa84fb5",
   "metadata": {},
   "source": [
    "### load the respective Train, Test and OOT data"
   ]
  },
  {
   "cell_type": "code",
   "execution_count": null,
   "id": "e054015f",
   "metadata": {
    "vscode": {
     "languageId": "r"
    }
   },
   "outputs": [],
   "source": [
    "train_data <- read_csv(\"/prd/momarmi/YBL/PL_ETC/seg3_new/YBL_PL_ETC_seg3_train.csv\")\n",
    "test_data = read_csv(\"/prd/momarmi/YBL/PL_ETC/seg3_new/YBL_PL_ETC_seg3_test.csv\")\n",
    "oot_data = read_csv(\"/prd/momarmi/YBL/PL_ETC/seg3_new/YBL_PL_ETC_seg3_oot.csv\")"
   ]
  },
  {
   "cell_type": "markdown",
   "id": "fa7cd4b5",
   "metadata": {},
   "source": [
    "### Input the Model variables"
   ]
  },
  {
   "cell_type": "code",
   "execution_count": null,
   "id": "1d93e83d",
   "metadata": {
    "vscode": {
     "languageId": "r"
    }
   },
   "outputs": [],
   "source": [
    "model_var = c(\"g407s\",\"g310s\",\"g300s\",\"g533s\",\"rvlr29\",\"g305s\",\"g512s\",\"s061s\",\"fi34s\",\"rev255\",\"at103s\",\"ul_trd\",\"s004s\",\"g250a\", \"cgd04s\", \"tw34s\")"
   ]
  },
  {
   "cell_type": "markdown",
   "id": "797ff302",
   "metadata": {},
   "source": [
    "### Null imputation\n",
    "variable values will be imputed with -99 if they are null or <0"
   ]
  },
  {
   "cell_type": "code",
   "execution_count": null,
   "id": "de2dc907",
   "metadata": {
    "vscode": {
     "languageId": "r"
    }
   },
   "outputs": [],
   "source": [
    "x_train <- train_data %>% \n",
    "  mutate_at(model_var,~ ifelse(is.na(.) | . <0, -99, .))\n",
    "x_test <- test_data %>% \n",
    "  mutate_at(model_var,~ ifelse(is.na(.) | . <0, -99, .))\n",
    "x_oot <- oot_data %>% \n",
    "  mutate_at(model_var,~ ifelse(is.na(.) | . <0, -99, .))"
   ]
  },
  {
   "cell_type": "markdown",
   "id": "ec896093",
   "metadata": {},
   "source": [
    "### Binning the data\n",
    "initiate weight = 1 if non-weighted model"
   ]
  },
  {
   "cell_type": "code",
   "execution_count": null,
   "id": "4a727f0d",
   "metadata": {
    "vscode": {
     "languageId": "r"
    }
   },
   "outputs": [],
   "source": [
    "\n",
    "\n",
    "initParallel(seq)\n",
    "bins1 <- newBinning(\n",
    "  data = x_train\n",
    "  , target = \"dpd_18_60_flag\"\n",
    "  , weights = \"weight\"  \n",
    "  , varsToInclude = model_var\n",
    ")\n",
    "saveRDS(bins, \"/prd/momarmi/YBL/PL_ETC/aman/Seg3_Bivariates/PL_ETC_seg3_bins.rds\")"
   ]
  },
  {
   "cell_type": "markdown",
   "id": "507f61f9",
   "metadata": {},
   "source": [
    "### Manual and Iterative process to refine the bins (Interbinning)\n",
    "We should check for monotonicity of woe trend on train, test and oot"
   ]
  },
  {
   "cell_type": "code",
   "execution_count": null,
   "id": "462b2526",
   "metadata": {
    "vscode": {
     "languageId": "r"
    }
   },
   "outputs": [],
   "source": [
    "\n",
    "\n",
    "bins = readRDS(\"/prd/momarmi/YBL/PL_ETC/seg3_new/Gaurav/Bins_Objects/PL_ETC_seg3_bins_v5.rds\")\n",
    "seg_bin = interBin(bins)\n",
    "#saveRDS(seg_bin, \"/prd/momarmi/YBL/PL_ETC/seg3_new/Gaurav/Bins_Objects/PL_ETC_seg3_bins_v5.rds\")"
   ]
  },
  {
   "cell_type": "markdown",
   "id": "df1662c6",
   "metadata": {},
   "source": [
    "### Calculating IV of the selected variables"
   ]
  },
  {
   "cell_type": "code",
   "execution_count": null,
   "id": "0fccc60b",
   "metadata": {
    "vscode": {
     "languageId": "r"
    }
   },
   "outputs": [],
   "source": [
    "iv <- lapply(bins$bins, function(x)\n",
    "{\n",
    "  sum(x$IV)\n",
    "})\n",
    "iv <- unlist(iv)\n",
    "iv <- data.frame(Attribute = names(iv), IV = iv) %>% arrange(desc(IV))"
   ]
  },
  {
   "cell_type": "code",
   "execution_count": null,
   "id": "c8347f14",
   "metadata": {
    "vscode": {
     "languageId": "r"
    }
   },
   "outputs": [],
   "source": [
    "model_var = c(\"g407s\",\"g310s\",\"g300s\",\"g533s\",\"rvlr29\",\"g305s\",\"g512s\",\"s061s\",\"fi34s\",\"rev255\",\"at103s\",\"ul_trd\",\"s004s\",\"g250a\", \"cgd04s\", \"tw34s\")\n",
    "all_var = c(model_var, \"dpd_18_60_flag\", \"weight\")"
   ]
  },
  {
   "cell_type": "markdown",
   "id": "0b1bd2e9",
   "metadata": {},
   "source": [
    "### Applying the train bins to the test and OOT data"
   ]
  },
  {
   "cell_type": "code",
   "execution_count": null,
   "id": "f6a8d648",
   "metadata": {
    "vscode": {
     "languageId": "r"
    }
   },
   "outputs": [],
   "source": [
    "train_bin <- applyBinning(binning = seg_bin, data = x_train[,all_var], target = \"dpd_18_60_flag\")\n",
    "test_bin <- applyBinning(binning = seg_bin, data = x_test[,all_var], target = \"dpd_18_60_flag\")\n",
    "oot_bin <- applyBinning(binning = seg_bin, data = x_oot[,all_var], target = \"dpd_18_60_flag\")\n",
    "train_bin = train_bin %>% mutate(non_event_flag = case_when(dpd_18_60_flag == 0 ~ 1, \n",
    "                                                            TRUE ~ 0))"
   ]
  },
  {
   "cell_type": "markdown",
   "id": "e5fd9fe8",
   "metadata": {},
   "source": [
    "### Neutralizing the desired bins \n"
   ]
  },
  {
   "cell_type": "code",
   "execution_count": null,
   "id": "112a3f69",
   "metadata": {
    "vscode": {
     "languageId": "r"
    }
   },
   "outputs": [],
   "source": [
    "\n",
    "library(\"sqldf\")\n",
    "cnames=colnames(train_bin)\n",
    "cnames <- cnames[!cnames %in% 'dpd_18_60_flag']\n",
    "if (exists(\"output\")) rm(output)\n",
    "for (i in 1:length(cnames)){\n",
    "  var_name <- cnames[i]\n",
    "  print(var_name)\n",
    "  a<-sprintf(\"select %s, sum(weight) as cnt, sum(dpd_18_60_flag * weight) as event_sum, sum(non_event_flag * weight) as non_event_sum from train_bin group by %s\", var_name, var_name)\n",
    "  a1<-sqldf(a)\n",
    "  a1$var_name<-var_name\n",
    "  colnames(a1)<-c(\"bin\",\"total\",\"event\",\"non_event\",\"var_name\")\n",
    "  #print(nrow(a1))\n",
    "  if (i==1) output<-a1 else output<-rbind(output,a1)\n",
    "}\n",
    "# Fill these value accounding to your data weighted non_event and event\n",
    "total <- sum(x_train$weight)\n",
    "total_event <- sum(x_train$weighted_event_flag)\n",
    "total_non_event <- total - total_event\n",
    "output$pevent <- output$event/total_event\n",
    "output$pnon_event <- output$non_event/total_non_event\n",
    "output$woe<-log(output$pevent/output$pnon_event)\n",
    "\n",
    "#####################################################\n",
    "\n",
    "train_woe = train_bin\n",
    "test_woe = test_bin\n",
    "oot_woe = oot_bin\n",
    "\n"
   ]
  },
  {
   "cell_type": "markdown",
   "id": "140c7e8c",
   "metadata": {},
   "source": [
    "method 1 for assigning zero woe"
   ]
  },
  {
   "cell_type": "code",
   "execution_count": null,
   "id": "ee174169",
   "metadata": {
    "vscode": {
     "languageId": "r"
    }
   },
   "outputs": [],
   "source": [
    "#####################################################\n",
    "\n",
    "# Assign Neutral bin to zero woe value\n",
    "# Instead of passing index, we should specify the bin which needs to be neutralized\n",
    "index = c(2L, 10L, 14L, 18L, 26L, 31L, 36L, 42L, 47L, 52L, 56L, 59L, 66L, 72L, 76L, 82L)\n",
    "for (i in index)\n",
    "{ output[i, \"woe\"] = 0 }"
   ]
  },
  {
   "cell_type": "markdown",
   "id": "a9a643a6",
   "metadata": {},
   "source": [
    "method 2 for assigning zero woe"
   ]
  },
  {
   "cell_type": "code",
   "execution_count": null,
   "id": "460eafc2",
   "metadata": {
    "vscode": {
     "languageId": "r"
    }
   },
   "outputs": [],
   "source": [
    "## Mark the bins neutral in the interbinning app\n",
    "\n",
    "#### neutralising the bins\n",
    "output = output %>% mutate(woe_upd = case_when(var_name == 'g407s' & bin == '(-Inf, 0)' ~ 0,\n",
    "                                              var_name == 'g310s' & bin == '(-Inf, 0)' ~ 0,\n",
    "                                              var_name == 'g533s' & bin %in%c(\"[Others]\") ~ 0,\n",
    "                                              var_name == 'rvlr29' & bin == 'N_A' ~ 0,\n",
    "                                              var_name == 'at103s' & bin == 'N_A' ~ 0,\n",
    "                                              var_name == 'g512s' & bin == 'N_A' ~ 0,\n",
    "                                              var_name == 'ul_trd' & bin == 'N_A' ~ 0,\n",
    "                                              TRUE ~ woe),\n",
    "                          iv_upd = case_when(var_name == 'g407s' & bin == '(-Inf, 0)' ~ 0,\n",
    "                                             var_name == 'g310s' & bin == '(-Inf, 0)' ~ 0,\n",
    "                                             var_name == 'g533s' & bin %in%c(\"[Others]\") ~ 0,\n",
    "                                             var_name == 'rvlr29' & bin == 'N_A' ~ 0,\n",
    "                                             var_name == 'at103s' & bin == 'N_A' ~ 0,\n",
    "                                             var_name == 'g512s' & bin == 'N_A' ~ 0,\n",
    "                                             var_name == 'ul_trd' & bin == 'N_A' ~ 0,\n",
    "                                             TRUE ~ iv))"
   ]
  },
  {
   "cell_type": "markdown",
   "id": "844a4164",
   "metadata": {},
   "source": [
    "### Concating the WOE values to the original data"
   ]
  },
  {
   "cell_type": "code",
   "execution_count": null,
   "id": "ecf7a787",
   "metadata": {
    "vscode": {
     "languageId": "r"
    }
   },
   "outputs": [],
   "source": [
    "\n",
    "# Loop through each variable in model_var\n",
    "for (i in 1:length(model_var)){\n",
    "  # Filter the output DataFrame for the current variable and select 'bin' and 'woe' columns\n",
    "  df = output %>% filter(var_name == model_var[i]) %>% select(c('bin','woe'))\n",
    "  # Rename the 'bin' column to the current variable name\n",
    "  names(df)[names(df) == 'bin'] = model_var[i]\n",
    "  # Join the filtered DataFrame with train_woe DataFrame\n",
    "  train_woe = train_woe %>% left_join(df, by= model_var[i])\n",
    "  # Rename the 'woe' column to include the current variable name\n",
    "  names(train_woe)[names(train_woe) == 'woe'] = paste0(c(model_var[i]),\"_woe\")\n",
    "}\n",
    "\n",
    "# Repeat the process for test_woe DataFrame\n",
    "for (i in 1:length(model_var)){\n",
    "  df = output %>% filter(var_name == model_var[i]) %>% select(c('bin','woe'))\n",
    "  names(df)[names(df) == 'bin'] = model_var[i]\n",
    "  test_woe = test_woe %>% left_join(df, by= model_var[i])\n",
    "  names(test_woe)[names(test_woe) == 'woe'] = paste0(c(model_var[i]),\"_woe\")\n",
    "}\n",
    "# Repeat the process for oot_woe DataFrame\n",
    "for (i in 1:length(model_var)){\n",
    "  df = output %>% filter(var_name == model_var[i]) %>% select(c('bin','woe'))\n",
    "  names(df)[names(df) == 'bin'] = model_var[i]\n",
    "  oot_woe = oot_woe %>% left_join(df, by= model_var[i])\n",
    "  names(oot_woe)[names(oot_woe) == 'woe'] = paste0(c(model_var[i]),\"_woe\")\n",
    "}"
   ]
  },
  {
   "cell_type": "code",
   "execution_count": null,
   "id": "68d04450",
   "metadata": {
    "vscode": {
     "languageId": "r"
    }
   },
   "outputs": [],
   "source": [
    "###################order of the bins variable same as model vars#################\n",
    "\n",
    "colnames(train_woe)[1:length(model_var)] = paste0(colnames(train_woe)[1:length(model_var)],\"_bin\")\n",
    "colnames(test_woe)[1:length(model_var)] = paste0(colnames(test_woe)[1:length(model_var)],\"_bin\")\n",
    "colnames(oot_woe)[1:length(model_var)] = paste0(colnames(oot_woe)[1:length(model_var)],\"_bin\")\n",
    "# Add an 'id' column to train_woe, test_woe, and oot_woe DataFrames\n",
    "train_woe$id = 1:nrow(train_woe)\n",
    "test_woe$id = 1:nrow(test_woe)\n",
    "oot_woe$id = 1:nrow(oot_woe)\n",
    "req_cols = c(\"fid\",\"data_date\",\"origin_month\",\"dpd_18_60_ind\",\"Segment\",\"sanctioned_amount\",\"short_name\",\"YBL_flag\", model_var)\n",
    "\n",
    "train = x_train[, req_cols]\n",
    "test = x_test[, req_cols]\n",
    "oot = x_oot[, req_cols]\n",
    "# Add an 'id' column to train, test, and oot DataFrames\n",
    "train$id = 1:nrow(train)\n",
    "test$id = 1:nrow(test)\n",
    "oot$id = 1:nrow(oot)\n",
    "# Join the train, test, and oot DataFrames with their respective woe DataFrames\n",
    "train_all_data = train %>% inner_join(train_woe, by = c(\"id\"))\n",
    "test_all_data = test %>% inner_join(test_woe, by = c(\"id\"))\n",
    "oot_all_data = oot %>% inner_join(oot_woe, by = c(\"id\"))"
   ]
  },
  {
   "cell_type": "markdown",
   "id": "e29e7c65",
   "metadata": {},
   "source": [
    "### Saving the new data with WOE values"
   ]
  },
  {
   "cell_type": "code",
   "execution_count": null,
   "id": "b957eeb9",
   "metadata": {
    "vscode": {
     "languageId": "r"
    }
   },
   "outputs": [],
   "source": [
    "write_csv(train_all_data, \"~/PL_ETC_Seg3_woe_train_data.csv\")\n",
    "write_csv(test_all_data, \"~/PL_ETC_Seg3_woe_test_data.csv\")\n",
    "write_csv(oot_all_data, \"~/PL_ETC_Seg3_woe_oot_data.csv\")"
   ]
  },
  {
   "cell_type": "code",
   "execution_count": null,
   "id": "94750ab5",
   "metadata": {
    "vscode": {
     "languageId": "r"
    }
   },
   "outputs": [],
   "source": [
    "model_var_woe = c(\"g300s_woe\",\"rev255_woe\",\"rvlr29_woe\",\"g305s_woe\",\"g533s_woe\",\"g407s_woe\",\"at103s_woe\",\"g310s_woe\",\"s061s_woe\",\"g512s_woe\",\"g250a_woe\",\"fi34s_woe\",\"ul_trd_woe\",\"tw34s_woe\",\"s004s_woe\", \"cgd04s_woe\")\n",
    "\n",
    "model_var_woe = c(\"g300s_woe\",\"rev255_woe\", \"g305s_woe\",\"g533s_woe\",\"g407s_woe\", \"at103s_woe\",\"g512s_woe\", \"fi34s_woe\", \"ul_trd_woe\", \"s004s_woe\")\n",
    "all_var_woe = c(model_var_woe,'dpd_18_60_flag')\n",
    "\n",
    "#####################################################\n",
    "\n",
    "######################################################\n",
    "\n",
    "# Convert train_woe, test_woe, and oot_woe to data frames with selected columns\n",
    "train1 <- as.data.frame(train_woe[,all_var_woe])\n",
    "test1 <- as.data.frame(test_woe[,all_var_woe])\n",
    "oot1 <- as.data.frame(oot_woe[,all_var_woe]) "
   ]
  },
  {
   "cell_type": "code",
   "execution_count": null,
   "id": "1430d3ee",
   "metadata": {
    "vscode": {
     "languageId": "r"
    }
   },
   "outputs": [],
   "source": [
    "# Set working directory\n",
    "setwd(\"~/\")\n",
    "train_data_all = read_csv(\"PL_ETC_Seg3_woe_train_data.csv\")\n",
    "test_data_all = read_csv(\"PL_ETC_Seg3_woe_test_data.csv\")\n",
    "oot_data_all = read_csv(\"PL_ETC_Seg3_woe_oot_data.csv\")\n",
    "\n",
    "# Define model variables and all variables including the target variable\n",
    "model_var_woe = c(\"rev255_woe\", \"g533s_woe\",\"g407s_woe\", \"at103s_woe\",\"g512s_woe\", \"fi34s_woe\", \"ul_trd_woe\", \"s004s_woe\")\n",
    "all_var_woe = c(model_var_woe,'dpd_18_60_flag')\n",
    "train1 <- train_data_all[, all_var_woe]\n",
    "test1 <- test_data_all[, all_var_woe]\n",
    "oot1 <- oot_data_all[, all_var_woe]"
   ]
  },
  {
   "cell_type": "markdown",
   "id": "d42321a3",
   "metadata": {},
   "source": [
    "### Fit a logistic regression model"
   ]
  },
  {
   "cell_type": "code",
   "execution_count": null,
   "id": "698ba4bd",
   "metadata": {
    "vscode": {
     "languageId": "r"
    }
   },
   "outputs": [],
   "source": [
    "GLMbaseMod <- glm( dpd_18_60_flag ~., data = train1, family = binomial)\n",
    "#saveRDS(GLMbaseMod, \"~/glm_model_object_on_9vars_v2.rds\")"
   ]
  },
  {
   "cell_type": "markdown",
   "id": "ba235fbf",
   "metadata": {},
   "source": [
    "### Summary and VIF"
   ]
  },
  {
   "cell_type": "code",
   "execution_count": null,
   "id": "16acac08",
   "metadata": {
    "vscode": {
     "languageId": "r"
    }
   },
   "outputs": [],
   "source": [
    "# Load the model object (commented out)\n",
    "# GLMbaseMod <- readRDS(\"~/glm_model_object_on_10vars_v1.rds\")\n",
    "# Display the summary of the model\n",
    "\n",
    "summary(GLMbaseMod)\n",
    "\n",
    "# Calculate Variance Inflation Factor (VIF)\n",
    "\n",
    "VIF = vif(GLMbaseMod)\n",
    "VIF"
   ]
  },
  {
   "cell_type": "markdown",
   "id": "a65e37c5",
   "metadata": {},
   "source": [
    "### Performance of the GLM Model"
   ]
  },
  {
   "cell_type": "code",
   "execution_count": null,
   "id": "84c9633a",
   "metadata": {
    "vscode": {
     "languageId": "r"
    }
   },
   "outputs": [],
   "source": [
    "# Predict probabilities for the training data\n",
    "\n",
    "prob <- predict(GLMbaseMod, train1[, model_var_woe], type=\"response\")\n",
    "train_out <- data.frame(actual=train1$dpd_18_60_flag, prob=prob)\n",
    "\n",
    "# Calculate quantiles for probability cut points\n",
    "prob_cut_point <- quantile(x = train_out$prob, probs = seq(0, 1, length.out = 11), type = 8)\n",
    "q = c(0, prob_cut_point[2:10], 1)\n",
    "\n",
    "# Evaluate the model on training data\n",
    "\n",
    "a = eval_func(train_out$actual, train_out$prob, q)\n",
    "auc_train = auc_func(train_out)\n",
    "gini_train = unlist(a[1])\n",
    "ks_train = unlist(a[2])\n",
    "\n",
    "# Predict probabilities for the test data\n",
    "\n",
    "prob <- predict(GLMbaseMod, test1[, model_var_woe], type=\"response\")\n",
    "test_out <- data.frame(actual=test1$dpd_18_60_flag, prob=prob)\n",
    "a = eval_func(test_out$actual, test_out$prob, q)\n",
    "auc_test = auc_func(test_out)\n",
    "gini_test = unlist(a[1])\n",
    "ks_test = unlist(a[2])\n",
    "\n",
    "# Predict probabilities for the out-of-time (OOT) data\n",
    "\n",
    "prob <- predict(GLMbaseMod, oot1[, model_var_woe], type=\"response\")\n",
    "oot_out <- data.frame(actual=oot1$dpd_18_60_flag, prob=prob)\n",
    "a = eval_func(oot_out$actual, oot_out$prob, q)\n",
    "auc_oot = auc_func(oot_out)\n",
    "gini_oot = unlist(a[1])\n",
    "ks_oot = unlist(a[2])\n",
    "\n",
    "\n",
    "\n",
    "# Print model performance metrics\n",
    "cat(auc_train, auc_test, auc_oot, gini_train, gini_test, gini_oot, ks_train, ks_test, ks_oot, (ks_train - ks_test)/ks_train, (ks_train - ks_oot)/ks_train)\n",
    "print(\"Model has trained!\")\n",
    "\n",
    "\n",
    "model_results <- matrix(c(auc_train, auc_test, auc_oot, gini_train, gini_test, gini_oot, ks_train, ks_test, ks_oot, (ks_train-ks_train)/ks_train , (ks_train-ks_test)/ks_train, (ks_train-ks_oot)/ks_train), nrow = 3, ncol = 4)\n",
    "\n",
    "# Convert the matrix to a data frame and set column and row names\n",
    "\n",
    "model_results <- data.frame(model_results)\n",
    "colnames(model_results) <- c(\"AUC\", \"Gini\", \"KS\", \"KS Drop\")\n",
    "rownames(model_results) <- c(\"Train\", \"Test\", \"OOT\")\n",
    "\n",
    "# Generate KS tables for train, test, and OOT data\n",
    "\n",
    "train_ks_table = ksTable(train_out$actual, train_out$prob, q)\n",
    "test_ks_table = ksTable(test_out$actual, test_out$prob, q)\n",
    "oot_ks_table = ksTable(oot_out$actual, oot_out$prob, q)\n",
    " \n"
   ]
  },
  {
   "cell_type": "markdown",
   "id": "d261682f",
   "metadata": {},
   "source": [
    "### Saving Workbook"
   ]
  },
  {
   "cell_type": "code",
   "execution_count": null,
   "id": "c9ff5426",
   "metadata": {
    "vscode": {
     "languageId": "r"
    }
   },
   "outputs": [],
   "source": [
    "\n",
    "### Define the Excel format style\n",
    "wb <- createWorkbook()\n",
    "\n",
    "headerStyle <- createStyle(textDecoration = \"bold\", border = \"TopBottomLeftRight\", halign = \"center\", valign=\"center\", fgFill = \"#B4C6E7\")\n",
    "borderStyle <- createStyle(border = \"TopBottomLeftRight\")\n",
    "BoldStyle <- createStyle(textDecoration = \"bold\", halign = \"center\", valign=\"center\")\n",
    "NumStyle <- createStyle(border = \"TopBottomLeftRight\", halign = \"center\", valign=\"center\")\n",
    "PercentageStyle <- createStyle(border = \"TopBottomLeftRight\", halign = \"center\", valign=\"center\", numFmt=\"PERCENTAGE\")\n",
    "\n",
    "#########################################################################################\n",
    "\n",
    "### Adding the KS-Table workbook\n",
    "addWorksheet(wb,\"KS-Table\")\n",
    "\n",
    "writeData(wb,\"KS-Table\",model_results,startRow = 2,startCol = 2,colNames = TRUE,headerStyle = headerStyle, rowNames = TRUE)\n",
    "addStyle(wb,\"KS-Table\",headerStyle, rows=2,cols=2:6,gridExpand = TRUE)\n",
    "addStyle(wb,\"KS-Table\",headerStyle,rows=3:6,cols=2,gridExpand = TRUE)\n",
    "addStyle(wb,\"KS-Table\",NumStyle,rows=3:6,cols=3:6,gridExpand = TRUE)\n",
    "addStyle(wb,\"KS-Table\",PercentageStyle,rows=3:6,cols=6,gridExpand = TRUE)\n",
    "writeData(wb,\"KS-Table\",x=\"\",startRow = 7,startCol = 2)\n",
    "writeData(wb,\"KS-Table\",x=\"TRAIN\",startRow = 9,startCol = 2)\n",
    "addStyle(wb,\"KS-Table\",BoldStyle,rows=9,cols=2,gridExpand = TRUE)\n",
    "writeData(wb,\"KS-Table\",train_ks_table,startRow = 11,startCol = 2,colNames = TRUE,headerStyle = headerStyle, rowNames = FALSE)\n",
    "addStyle(wb,\"KS-Table\",NumStyle,rows=12:21,cols=2:14,gridExpand = TRUE)\n",
    "addStyle(wb,\"KS-Table\",PercentageStyle,rows=12:21,cols=7:8,gridExpand = TRUE)\n",
    "addStyle(wb,\"KS-Table\",PercentageStyle,rows=12:21,cols=11:12,gridExpand = TRUE)\n",
    "addStyle(wb,\"KS-Table\",PercentageStyle,rows=12:21,cols=14,gridExpand = TRUE)\n",
    "\n",
    "writeData(wb,\"KS-Table\",x=\"\",startRow = 22,startCol = 2)\n",
    "writeData(wb,\"KS-Table\",x=\"TEST\",startRow = 25,startCol = 2,headerStyle = headerStyle)\n",
    "addStyle(wb,\"KS-Table\",BoldStyle,rows=25,cols=2,gridExpand = TRUE)\n",
    "writeData(wb,\"KS-Table\",test_ks_table,startRow = 27,startCol = 2,colNames = TRUE,headerStyle = headerStyle, rowNames = FALSE)\n",
    "addStyle(wb,\"KS-Table\",NumStyle,rows=28:37,cols=2:14,gridExpand = TRUE)\n",
    "addStyle(wb,\"KS-Table\",PercentageStyle,rows=28:37,cols=7:8,gridExpand = TRUE)\n",
    "addStyle(wb,\"KS-Table\",PercentageStyle,rows=28:37,cols=11:12,gridExpand = TRUE)\n",
    "addStyle(wb,\"KS-Table\",PercentageStyle,rows=28:37,cols=14,gridExpand = TRUE)\n",
    "writeData(wb,\"KS-Table\",x=\"\",startRow = 38,startCol = 2)\n",
    "writeData(wb,\"KS-Table\",x=\"OOT\",startRow = 41,startCol = 2,headerStyle = headerStyle)\n",
    "addStyle(wb,\"KS-Table\",BoldStyle,rows=41,cols=2,gridExpand = TRUE)\n",
    "writeData(wb,\"KS-Table\",oot_ks_table,startRow = 43,startCol = 2,colNames = TRUE,headerStyle = headerStyle, rowNames = FALSE)\n",
    "addStyle(wb,\"KS-Table\",NumStyle,rows=44:53,cols=2:14,gridExpand = TRUE)\n",
    "addStyle(wb,\"KS-Table\",PercentageStyle,rows=44:53, cols=7:8,gridExpand = TRUE)\n",
    "addStyle(wb,\"KS-Table\",PercentageStyle,rows=44:53, cols=11:12,gridExpand = TRUE)\n",
    "addStyle(wb,\"KS-Table\",PercentageStyle,rows=44:53, cols=14,gridExpand = TRUE)\n",
    "\n",
    "saveWorkbook(wb,paste0(\"~/final_LR_model_report_9vars_v2.xlsx\"),overwrite = TRUE)\n"
   ]
  },
  {
   "cell_type": "markdown",
   "id": "429a9e9c",
   "metadata": {},
   "source": [
    "### weighted Model Performance\n"
   ]
  },
  {
   "cell_type": "code",
   "execution_count": null,
   "id": "b3939b77",
   "metadata": {
    "vscode": {
     "languageId": "r"
    }
   },
   "outputs": [],
   "source": [
    "\n",
    "# Favorite TU colors\n",
    "# TU color palette\n",
    "TUcolors<-c(\"#4DDEFF\", \"#00A6CA\", \"#006880\", \"#CAE29C\", \"#A9D161\", \"#86B234\", \"#FFE866\",\n",
    "            \"#FCD800\", \"#CCAD00\", \"#F49357\", \"#F17123\", \"#D85B0E\", \"#CCCCCC\", \"#A9A9A9\",\n",
    "            \"#8C8C8C\", \"#E6634D\", \"#E04025\", \"#C9371D\")\n",
    "# Favorite TU colors\n",
    "TUMB <- TUcolors[2]\n",
    "TUDB <- TUcolors[3]\n",
    "formatting <- function(data) {\n",
    "  ints <- data %>% select_if(is.integer) %>% colnames\n",
    "  dbs <- setdiff(data %>% select_if(is.double) %>% colnames, c(\"contribution\", \"vif\"))\n",
    "  data %>% \n",
    "    gt() %>% \n",
    "    tab_options(\n",
    "      container.width = 850\n",
    "      , table.font.size = 12\n",
    "      , container.overflow.x = TRUE\n",
    "      , container.overflow.y = TRUE\n",
    "      , column_labels.background.color = TUMB\n",
    "    ) %>% \n",
    "    fmt_number(one_of(ints), decimals = 0, use_seps = TRUE) %>% \n",
    "    fmt_number(one_of(dbs), decimals = 1, use_seps = TRUE) %>% \n",
    "    fmt_number(matches(c(\"vif\", \"PSI\", \"Gain\", \"Cover\", \"Frequency\")), decimals = 2, use_seps = TRUE) %>% \n",
    "    fmt_number(matches(c(\"contribution\", \"MC\")), decimals = 4, use_seps = TRUE)\n",
    "}\n",
    "\n",
    "prob <- predict(GLMbaseMod, train1[, model_var_woe],type=\"response\")\n",
    "train_out <- data.frame(actual=train1$dpd_18_60_flag,prob=prob, wgt = train_data_all$weight, ind = 'Train')\n",
    "prob <- predict(GLMbaseMod, test1[, model_var_woe],type=\"response\")\n",
    "test_out <- data.frame(actual=test1$dpd_18_60_flag,prob=prob, wgt = test_data_all$weight, ind = 'Test')\n",
    "prob <- predict(GLMbaseMod, oot1[, model_var_woe],type=\"response\")\n",
    "oot_out <- data.frame(actual=oot1$dpd_18_60_flag,prob=prob, wgt = oot_data_all$weight, ind = 'OOT')\n",
    "scored_data <- rbind(train_out, test_out, oot_out)\n",
    "\n",
    "scored_data %>% \n",
    "  group_by(Index = ind) %>% \n",
    "  do(\n",
    "    Total = as.integer(sum(.$wgt))\n",
    "    , newScore = 100*KS(actual ~ prob, weights = wgt, data = .)$ks\n",
    "    , newScoreg = 100*Gini(actual ~ prob, weights = wgt, data = .)\n",
    "    , newScorer = 100*ROC(actual ~ prob, weights = wgt, data = .)\n",
    "  ) %>% \n",
    "  unnest(everything()) %>% \n",
    "  arrange(desc(Index)) %>% \n",
    "  formatting %>% \n",
    "  tab_spanner(\n",
    "    label = \"KS\",\n",
    "    columns = vars(newScore)\n",
    "  ) %>% \n",
    "  tab_spanner(\n",
    "    label = \"Gini\",\n",
    "    columns = vars(newScoreg)\n",
    "  ) %>% \n",
    "  tab_spanner(\n",
    "    label = \"ROC\",\n",
    "    columns = vars(newScorer)\n",
    "  )\n",
    "\n",
    "printGains <- function(data) {\n",
    "  header <- function(data) {\n",
    "    cat(paste(\"###\", data$ind[1], \"\\n\"))\n",
    "    data\n",
    "  }\n",
    "  data %>% header %>% pull(gains) %>% pluck(1) %>% formatting %>% print\n",
    "}\n",
    "\n",
    "gains <- scored_data %>%\n",
    "  group_by(ind) %>%\n",
    "  do(gains = gainsTable(actual ~ prob, data = ., weights = wgt, numOfIntervals = 10))\n",
    "\n",
    "# cuts <- c(Inf)\n",
    " \n",
    "# for (i in 2:10){append(cuts, as.numeric(gsub(\"]\", \"\", str_split_1(levels(gains[[2]][[3]]$Score.Range)[i],\",\")[2])))}\n",
    "\n",
    "gains2 <- scored_data %>%\n",
    "  group_by(ind) %>%\n",
    "  do(gains = gainsTable(actual ~ prob, data = ., weights = wgt, numOfIntervals = 10,\n",
    "                        breaks = c(1,0.122,0.0978,0.0839,0.0701,0.0627,0.0514,0.0406,0.0302,0.0218,0)))\n",
    "##################################################################################\n",
    "\n",
    "ybl_train = train_data_all %>% filter(YBL_flag == 1)\n",
    "ybl_test = test_data_all %>% filter(YBL_flag == 1)\n",
    "ybl_oot = oot_data_all %>% filter(YBL_flag == 1)\n",
    "\n",
    "ybl_dev_data = rbind(ybl_train[, all_var_woe], ybl_test[, all_var_woe])\n",
    "\n",
    "################################################################\n"
   ]
  },
  {
   "cell_type": "markdown",
   "id": "4f6a5ffb",
   "metadata": {},
   "source": [
    "### Performance of weighted GLM model"
   ]
  },
  {
   "cell_type": "code",
   "execution_count": null,
   "id": "d3ca1bed",
   "metadata": {
    "vscode": {
     "languageId": "r"
    }
   },
   "outputs": [],
   "source": [
    "\n",
    "\n",
    "prob <- predict(GLMbaseMod, ybl_dev_data[, model_var_woe],type=\"response\")\n",
    "dev_out <- data.frame(actual=ybl_dev_data$dpd_18_60_flag,prob=prob)\n",
    "prob_cut_point <- quantile(x = dev_out$prob, probs = seq(0, 1, length.out = 11), type = 8)\n",
    "q = c(0,prob_cut_point[2:10], 1)\n",
    "a = eval_func(dev_out$actual, dev_out$prob, q)\n",
    "auc_dev = auc_func(dev_out)\n",
    "gini_dev = unlist(a[1])\n",
    "ks_dev = unlist(a[2])\n",
    "dev_ks_table = ksTable(dev_out$actual, dev_out$prob, q)\n",
    "\n",
    "prob <- predict(GLMbaseMod, ybl_oot[, model_var_woe],type=\"response\")\n",
    "oot_out <- data.frame(actual=ybl_oot$dpd_18_60_flag,prob=prob)\n",
    "a = eval_func(oot_out$actual, oot_out$prob, q)\n",
    "auc_oot = auc_func(oot_out)\n",
    "gini_oot = unlist(a[1])\n",
    "ks_oot = unlist(a[2])\n",
    "oot_ks_table = ksTable(oot_out$actual, oot_out$prob, q)\n",
    "cat(auc_dev, gini_dev, ks_dev, auc_oot, gini_oot, ks_oot, (ks_dev-ks_oot)/ks_dev)"
   ]
  }
 ],
 "metadata": {
  "language_info": {
   "name": "python"
  }
 },
 "nbformat": 4,
 "nbformat_minor": 5
}
